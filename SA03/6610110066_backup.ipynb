{
 "cells": [
  {
   "cell_type": "markdown",
   "metadata": {},
   "source": [
    "# Chavatik Thorarit 6610110066 Sec02"
   ]
  },
  {
   "cell_type": "code",
   "execution_count": null,
   "metadata": {},
   "outputs": [],
   "source": [
    "# 1. โปรดตั้งค่า directory ที่ใช้ทำงาน\n",
    "# 2. สร้างและเปิดใช้งาน environment\n",
    "import Pkg\n",
    "Pkg.activate(\".\")                               # . คือ directory ปัจจุบัน\n",
    "Pkg.instantiate()                               # สร้างไฟล์ Project.toml และ Manifest.toml\n",
    "Pkg.add([\"Plots\", \"DataFrames\", \"CSV\", \"StatsPlots\", \"StatsBase\", \"Random\"])         # เพิ่ม packages ลงใน environment\n",
    "Pkg.status()                                    # ตรวจสอบ packages ที่ติดตั้ง\n",
    "# โหลด packages ด้วยคำสั่ง using\n",
    "using Plots, DataFrames, CSV, StatsPlots, StatsBase, Random"
   ]
  },
  {
   "cell_type": "markdown",
   "metadata": {},
   "source": [
    "# 1. โหลด dataset"
   ]
  },
  {
   "cell_type": "code",
   "execution_count": null,
   "metadata": {},
   "outputs": [],
   "source": [
    "# โหลดข้อมูล personality_dataset (personality_dataset.csv) ลงใน DataFrames\n",
    "df = DataFrame(CSV.File(\"personality_dataset.csv\")) # โหลด dataset จาก csv\n",
    "first(df, 5) # แสดง 5 แถวแรกของ DataFrame"
   ]
  },
  {
   "cell_type": "code",
   "execution_count": null,
   "metadata": {},
   "outputs": [],
   "source": [
    "# อ่านชื่อคอลัมน์และขนาดของข้อมูล\n",
    "println(\"Column names: \", names(df)) # ชื่อคอลัมน์\n",
    "println(\"Data shape: \", size(df)) # ขนาดของข้อมูล\n",
    "println(\"\\nColumn descriptions:\")\n",
    "println(\"- Time_spent_Alone: เวลาอยู่คนเดียวต่อวัน (ชั่วโมง)\")\n",
    "println(\"- Stage_fear: กลัวการพูดต่อหน้าคนอื่นหรือไม่ (Yes/No)\")\n",
    "println(\"- Social_event_attendance: จำนวนงานสังคมที่เข้าร่วมต่อเดือน\")\n",
    "println(\"- Going_outside: จำนวนครั้งที่ออกไปข้างนอกต่อสัปดาห์\")\n",
    "println(\"- Drained_after_socializing: รู้สึกเหนื่อยล้าหลังการเข้าสังคมหรือไม่ (Yes/No)\")\n",
    "println(\"- Friends_circle_size: ขนาดกลุ่มเพื่อน\")\n",
    "println(\"- Post_frequency: จำนวนโพสต์บนโซเชียลมีเดียต่อสัปดาห์\")\n",
    "println(\"- Personality: ประเภทบุคลิกภาพ (Introvert/Extrovert)\")"
   ]
  },
  {
   "cell_type": "markdown",
   "metadata": {},
   "source": [
    "# 2. หาค่าเฉลี่ยของ Social_event_attendance และแสดง Density Plot"
   ]
  },
  {
   "cell_type": "code",
   "execution_count": null,
   "metadata": {},
   "outputs": [],
   "source": [
    "# คัดกรองข้อมูลตามประเภทบุคลิกภาพ\n",
    "introverts = filter(row -> row.Personality == \"Introvert\", df) # คัดกรอง Introvert\n",
    "extroverts = filter(row -> row.Personality == \"Extrovert\", df) # คัดกรอง Extrovert\n",
    "\n",
    "# คำนวณค่าเฉลี่ยของ Social_event_attendance สำหรับแต่ละกลุ่ม\n",
    "mean_intro = mean(skipmissing(introverts.Social_event_attendance)) # ค่าเฉลี่ยของ Introvert\n",
    "mean_extro = mean(skipmissing(extroverts.Social_event_attendance)) # ค่าเฉลี่ยของ Extrovert\n",
    "\n",
    "println(\"ค่าเฉลี่ย Social_event_attendance:\")\n",
    "println(\"Introvert: \", round(mean_intro, digits=2))\n",
    "println(\"Extrovert: \", round(mean_extro, digits=2))"
   ]
  },
  {
   "cell_type": "code",
   "execution_count": null,
   "metadata": {},
   "outputs": [],
   "source": [
    "# สร้าง Density Plot\n",
    "density(collect(skipmissing(introverts.Social_event_attendance)), \n",
    "        label=\"Introvert\", linewidth=2, alpha=0.7) # กราฟของ Introvert\n",
    "density!(collect(skipmissing(extroverts.Social_event_attendance)), \n",
    "         label=\"Extrovert\", linewidth=2, alpha=0.7) # กราฟของ Extrovert\n",
    "\n",
    "title!(\"Density Plot: Social Event Attendance\")\n",
    "xlabel!(\"Number of social events per month\")\n",
    "ylabel!(\"Density\")\n",
    "\n",
    "# เพิ่มเส้นแสดงค่าเฉลี่ย\n",
    "vline!([mean_intro], label=\"Mean Introvert\", linestyle=:dash, color=:blue) # เส้นเฉลี่ยของ Introvert\n",
    "vline!([mean_extro], label=\"Mean Extrovert\", linestyle=:dash, color=:orange) # เส้นเฉลี่ยของ Extrovert\n",
    "\n",
    "savefig(\"density_social_events.png\") # บันทึกกราฟเป็นไฟล์ png"
   ]
  },
  {
   "cell_type": "markdown",
   "metadata": {},
   "source": [
    "# 3. แสดง 2D Scatter Plot ระหว่าง Friends_circle_size และ Time_spent_Alone"
   ]
  },
  {
   "cell_type": "code",
   "execution_count": null,
   "metadata": {},
   "outputs": [],
   "source": [
    "# ลบแถวขาดข้อมูลในคอลัมน์ที่เราต้องการ\n",
    "df_clean = dropmissing(df, [:Friends_circle_size, :Time_spent_Alone]) # ทำความสะอาดข้อมูล\n",
    "\n",
    "# แยกกลุ่มข้อมูลตามประเภทบุคลิกภาพ\n",
    "intro_clean = filter(row -> row.Personality == \"Introvert\", df_clean) # ข้อมูล Introvert ที่สมบูรณ์\n",
    "extro_clean = filter(row -> row.Personality == \"Extrovert\", df_clean) # ข้อมูล Extrovert ที่สมบูรณ์\n",
    "\n",
    "println(\"จำนวนข้อมูลหลังตัด missing values:\")\n",
    "println(\"Total: \", nrow(df_clean))\n",
    "println(\"Introvert: \", nrow(intro_clean))\n",
    "println(\"Extrovert: \", nrow(extro_clean))"
   ]
  },
  {
   "cell_type": "code",
   "execution_count": null,
   "metadata": {},
   "outputs": [],
   "source": [
    "# สร้าง scatter plot\n",
    "scatter(extro_clean.Friends_circle_size, extro_clean.Time_spent_Alone, \n",
    "        label=\"Extrovert\", markersize=5, alpha=0.7, color=:orange) # กราฟของ Extrovert\n",
    "scatter!(intro_clean.Friends_circle_size, intro_clean.Time_spent_Alone, \n",
    "         label=\"Introvert\", markersize=5, alpha=0.7, color=:blue) # กราฟของ Introvert\n",
    "\n",
    "title!(\"Friends Circle Size vs Time Spent Alone\")\n",
    "xlabel!(\"Friends Circle Size\")\n",
    "ylabel!(\"Time Spent Alone (hours/day)\")\n",
    "\n",
    "savefig(\"scatter_friends_vs_alone.png\") # บันทึกกราฟเป็นไฟล์ png"
   ]
  },
  {
   "cell_type": "markdown",
   "metadata": {},
   "source": [
    "# 4. แสดง Box Plot ของ Post_frequency"
   ]
  },
  {
   "cell_type": "code",
   "execution_count": null,
   "metadata": {},
   "outputs": [],
   "source": [
    "# สร้าง box plot โดยใช้ StatsPlots\n",
    "df_posts = dropmissing(df, :Post_frequency) # ลบข้อมูลที่ขาดใน Post_frequency\n",
    "\n",
    "@df df_posts boxplot(:Personality, :Post_frequency, \n",
    "                     label=false, \n",
    "                     fillalpha=0.75,\n",
    "                     linewidth=2) # สร้าง box plot\n",
    "\n",
    "title!(\"Box Plot: Social Media Post Frequency by Personality Type\")\n",
    "xlabel!(\"Personality Type\")\n",
    "ylabel!(\"Number of posts per week\")\n",
    "\n",
    "savefig(\"boxplot_post_frequency.png\") # บันทึกกราฟเป็นไฟล์ png"
   ]
  },
  {
   "cell_type": "code",
   "execution_count": null,
   "metadata": {},
   "outputs": [],
   "source": [
    "# คำนวณและแสดงสถิติ\n",
    "intro_posts = filter(row -> row.Personality == \"Introvert\", df_posts).Post_frequency # ข้อมูลโพสต์ของ Introvert\n",
    "extro_posts = filter(row -> row.Personality == \"Extrovert\", df_posts).Post_frequency # ข้อมูลโพสต์ของ Extrovert\n",
    "\n",
    "println(\"Post Frequency Statistics:\")\n",
    "println(\"\\nIntrovert:\")\n",
    "println(\"  Mean: \", round(mean(intro_posts), digits=2))\n",
    "println(\"  Median: \", median(intro_posts))\n",
    "println(\"  Q1: \", quantile(intro_posts, 0.25))\n",
    "println(\"  Q3: \", quantile(intro_posts, 0.75))\n",
    "\n",
    "println(\"\\nExtrovert:\")\n",
    "println(\"  Mean: \", round(mean(extro_posts), digits=2))\n",
    "println(\"  Median: \", median(extro_posts))\n",
    "println(\"  Q1: \", quantile(extro_posts, 0.25))\n",
    "println(\"  Q3: \", quantile(extro_posts, 0.75))"
   ]
  },
  {
   "cell_type": "markdown",
   "metadata": {},
   "source": [
    "# 5. สร้าง DataFrame ใหม่จากการสุ่ม 20 Introvert และ 20 Extrovert"
   ]
  },
  {
   "cell_type": "code",
   "execution_count": null,
   "metadata": {},
   "outputs": [],
   "source": [
    "# ตั้งค่าสุ่มเพื่อให้ได้ผลลัพธ์ที่ซ้ำได้\n",
    "Random.seed!(123) # กำหนดค่า seed ให้กับ random number\n",
    "\n",
    "# ดึงข้อมูล introverts และ extroverts ทั้งหมด\n",
    "all_introverts = filter(row -> row.Personality == \"Introvert\", df) # ข้อมูล Introvert ทั้งหมด\n",
    "all_extroverts = filter(row -> row.Personality == \"Extrovert\", df) # ข้อมูล Extrovert ทั้งหมด\n",
    "\n",
    "# สุ่มเลือก 20 จากแต่ละกลุ่ม\n",
    "sampled_introverts = all_introverts[sample(1:nrow(all_introverts), 20, replace=false), :] # สุ่มเลือก Introvert\n",
    "sampled_extroverts = all_extroverts[sample(1:nrow(all_extroverts), 20, replace=false), :] # สุ่มเลือก Extrovert\n",
    "\n",
    "# รวมข้อมูลที่สุ่มได้ใน DataFrame ใหม่\n",
    "new_df = vcat(sampled_introverts, sampled_extroverts) # รวมเป็น DataFrame ใหม่\n",
    "\n",
    "println(\"New DataFrame created with 40 samples (20 Introvert + 20 Extrovert)\") # แสดงผลการสร้าง DataFrame ใหม่"
   ]
  },
  {
   "cell_type": "code",
   "execution_count": null,
   "metadata": {},
   "outputs": [],
   "source": [
    "# แสดงข้อมูลที่สุ่มได้\n",
    "println(\"\\nIntrovert samples (first 5):\") \n",
    "println(first(sampled_introverts, 5)) # แสดง 5 แถวแรกของ Introvert\n",
    "\n",
    "println(\"\\nExtrovert samples (first 5):\") \n",
    "println(first(sampled_extroverts, 5)) # แสดง 5 แถวแรกของ Extrovert\n",
    "\n",
    "# ตรวจสอบจำนวน\n",
    "println(\"\\nVerification:\")\n",
    "println(\"Total samples: \", nrow(new_df))\n",
    "println(\"Introverts: \", count(row -> row.Personality == \"Introvert\", eachrow(new_df)))\n",
    "println(\"Extroverts: \", count(row -> row.Personality == \"Extrovert\", eachrow(new_df)))\n",
    "\n",
    "# บันทึกเป็นไฟล์ CSV\n",
    "CSV.write(\"sampled_personality_data.csv\", new_df) # บันทึกข้อมูลที่สุ่มเป็นไฟล์ CSV\n",
    "println(\"\\nSampled data saved as 'sampled_personality_data.csv'\")"
   ]
  }
 ],
 "metadata": {
  "kernelspec": {
   "display_name": "Julia 1.11.6",
   "language": "julia",
   "name": "julia-1.11"
  },
  "language_info": {
   "file_extension": ".jl",
   "mimetype": "application/julia",
   "name": "julia",
   "version": "1.11.6"
  }
 },
 "nbformat": 4,
 "nbformat_minor": 5
}
